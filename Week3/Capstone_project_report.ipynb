{
 "cells": [
  {
   "cell_type": "markdown",
   "metadata": {},
   "source": [
    " <p style=\"text-align: center;\"><b><font size=5>CAR ACCIDENT SERVERITY PROBLEM</font></b></p>"
   ]
  },
  {
   "cell_type": "markdown",
   "metadata": {},
   "source": [
    "### Introduction/Business Problem"
   ]
  },
  {
   "cell_type": "markdown",
   "metadata": {},
   "source": [
    "   In Our Day today life, we may not experience things that happen suddenly always but things are still happening around which we don’t have control over. One of such incidents is Car accidents and there are serval reasons for that to occur. There are cases where lives are saved with immediate action and cannot be saved also. This project is done on regard to Prevent or reduce the such incidents. The project will work on different cases the accidents occur and provide a solution how it can be reduced after analyzing the reasons for the incidents"
   ]
  },
  {
   "cell_type": "markdown",
   "metadata": {},
   "source": [
    "### Data Section"
   ]
  },
  {
   "cell_type": "markdown",
   "metadata": {},
   "source": [
    "\n",
    "   In section, we are going to understand the data set we are going pick as samples. The data set will consist of inputs such as location, severity or no of accidents occurred, weather condition, road condition, period of the day and other optional inputs like road signal, traffic condition and cause of accident. These inputs will be processed and used for the analysis purpose.\n",
    "\n",
    "   The severity will be numbered from 0-5 where 0 is least time accident occurred and 5 is the maximum value. The weather condition will be rainy or dry. Road condition will be normal, wet road or damaged. And finally the period of the day will be day, noon and night which also help us understand the cause of an accident. \n"
   ]
  },
  {
   "cell_type": "code",
   "execution_count": 2,
   "metadata": {},
   "outputs": [
    {
     "name": "stderr",
     "output_type": "stream",
     "text": [
      "D:\\anaconda\\lib\\site-packages\\IPython\\core\\interactiveshell.py:3071: DtypeWarning: Columns (33) have mixed types.Specify dtype option on import or set low_memory=False.\n",
      "  has_raised = await self.run_ast_nodes(code_ast.body, cell_name,\n"
     ]
    },
    {
     "data": {
      "text/html": [
       "<div>\n",
       "<style scoped>\n",
       "    .dataframe tbody tr th:only-of-type {\n",
       "        vertical-align: middle;\n",
       "    }\n",
       "\n",
       "    .dataframe tbody tr th {\n",
       "        vertical-align: top;\n",
       "    }\n",
       "\n",
       "    .dataframe thead th {\n",
       "        text-align: right;\n",
       "    }\n",
       "</style>\n",
       "<table border=\"1\" class=\"dataframe\">\n",
       "  <thead>\n",
       "    <tr style=\"text-align: right;\">\n",
       "      <th></th>\n",
       "      <th>SEVERITYCODE</th>\n",
       "      <th>X</th>\n",
       "      <th>Y</th>\n",
       "      <th>OBJECTID</th>\n",
       "      <th>INCKEY</th>\n",
       "      <th>COLDETKEY</th>\n",
       "      <th>REPORTNO</th>\n",
       "      <th>STATUS</th>\n",
       "      <th>ADDRTYPE</th>\n",
       "      <th>INTKEY</th>\n",
       "      <th>...</th>\n",
       "      <th>ROADCOND</th>\n",
       "      <th>LIGHTCOND</th>\n",
       "      <th>PEDROWNOTGRNT</th>\n",
       "      <th>SDOTCOLNUM</th>\n",
       "      <th>SPEEDING</th>\n",
       "      <th>ST_COLCODE</th>\n",
       "      <th>ST_COLDESC</th>\n",
       "      <th>SEGLANEKEY</th>\n",
       "      <th>CROSSWALKKEY</th>\n",
       "      <th>HITPARKEDCAR</th>\n",
       "    </tr>\n",
       "  </thead>\n",
       "  <tbody>\n",
       "    <tr>\n",
       "      <th>0</th>\n",
       "      <td>2</td>\n",
       "      <td>-122.323148</td>\n",
       "      <td>47.703140</td>\n",
       "      <td>1</td>\n",
       "      <td>1307</td>\n",
       "      <td>1307</td>\n",
       "      <td>3502005</td>\n",
       "      <td>Matched</td>\n",
       "      <td>Intersection</td>\n",
       "      <td>37475.0</td>\n",
       "      <td>...</td>\n",
       "      <td>Wet</td>\n",
       "      <td>Daylight</td>\n",
       "      <td>NaN</td>\n",
       "      <td>NaN</td>\n",
       "      <td>&lt;NA&gt;</td>\n",
       "      <td>10</td>\n",
       "      <td>Entering at angle</td>\n",
       "      <td>0</td>\n",
       "      <td>0</td>\n",
       "      <td>N</td>\n",
       "    </tr>\n",
       "    <tr>\n",
       "      <th>1</th>\n",
       "      <td>1</td>\n",
       "      <td>-122.347294</td>\n",
       "      <td>47.647172</td>\n",
       "      <td>2</td>\n",
       "      <td>52200</td>\n",
       "      <td>52200</td>\n",
       "      <td>2607959</td>\n",
       "      <td>Matched</td>\n",
       "      <td>Block</td>\n",
       "      <td>NaN</td>\n",
       "      <td>...</td>\n",
       "      <td>Wet</td>\n",
       "      <td>Dark - Street Lights On</td>\n",
       "      <td>NaN</td>\n",
       "      <td>6354039.0</td>\n",
       "      <td>&lt;NA&gt;</td>\n",
       "      <td>11</td>\n",
       "      <td>From same direction - both going straight - bo...</td>\n",
       "      <td>0</td>\n",
       "      <td>0</td>\n",
       "      <td>N</td>\n",
       "    </tr>\n",
       "    <tr>\n",
       "      <th>2</th>\n",
       "      <td>1</td>\n",
       "      <td>-122.334540</td>\n",
       "      <td>47.607871</td>\n",
       "      <td>3</td>\n",
       "      <td>26700</td>\n",
       "      <td>26700</td>\n",
       "      <td>1482393</td>\n",
       "      <td>Matched</td>\n",
       "      <td>Block</td>\n",
       "      <td>NaN</td>\n",
       "      <td>...</td>\n",
       "      <td>Dry</td>\n",
       "      <td>Daylight</td>\n",
       "      <td>NaN</td>\n",
       "      <td>4323031.0</td>\n",
       "      <td>&lt;NA&gt;</td>\n",
       "      <td>32</td>\n",
       "      <td>One parked--one moving</td>\n",
       "      <td>0</td>\n",
       "      <td>0</td>\n",
       "      <td>N</td>\n",
       "    </tr>\n",
       "    <tr>\n",
       "      <th>3</th>\n",
       "      <td>1</td>\n",
       "      <td>-122.334803</td>\n",
       "      <td>47.604803</td>\n",
       "      <td>4</td>\n",
       "      <td>1144</td>\n",
       "      <td>1144</td>\n",
       "      <td>3503937</td>\n",
       "      <td>Matched</td>\n",
       "      <td>Block</td>\n",
       "      <td>NaN</td>\n",
       "      <td>...</td>\n",
       "      <td>Dry</td>\n",
       "      <td>Daylight</td>\n",
       "      <td>NaN</td>\n",
       "      <td>NaN</td>\n",
       "      <td>&lt;NA&gt;</td>\n",
       "      <td>23</td>\n",
       "      <td>From same direction - all others</td>\n",
       "      <td>0</td>\n",
       "      <td>0</td>\n",
       "      <td>N</td>\n",
       "    </tr>\n",
       "    <tr>\n",
       "      <th>4</th>\n",
       "      <td>2</td>\n",
       "      <td>-122.306426</td>\n",
       "      <td>47.545739</td>\n",
       "      <td>5</td>\n",
       "      <td>17700</td>\n",
       "      <td>17700</td>\n",
       "      <td>1807429</td>\n",
       "      <td>Matched</td>\n",
       "      <td>Intersection</td>\n",
       "      <td>34387.0</td>\n",
       "      <td>...</td>\n",
       "      <td>Wet</td>\n",
       "      <td>Daylight</td>\n",
       "      <td>NaN</td>\n",
       "      <td>4028032.0</td>\n",
       "      <td>&lt;NA&gt;</td>\n",
       "      <td>10</td>\n",
       "      <td>Entering at angle</td>\n",
       "      <td>0</td>\n",
       "      <td>0</td>\n",
       "      <td>N</td>\n",
       "    </tr>\n",
       "  </tbody>\n",
       "</table>\n",
       "<p>5 rows × 38 columns</p>\n",
       "</div>"
      ],
      "text/plain": [
       "   SEVERITYCODE           X          Y  OBJECTID  INCKEY  COLDETKEY REPORTNO  \\\n",
       "0             2 -122.323148  47.703140         1    1307       1307  3502005   \n",
       "1             1 -122.347294  47.647172         2   52200      52200  2607959   \n",
       "2             1 -122.334540  47.607871         3   26700      26700  1482393   \n",
       "3             1 -122.334803  47.604803         4    1144       1144  3503937   \n",
       "4             2 -122.306426  47.545739         5   17700      17700  1807429   \n",
       "\n",
       "    STATUS      ADDRTYPE   INTKEY  ... ROADCOND                LIGHTCOND  \\\n",
       "0  Matched  Intersection  37475.0  ...      Wet                 Daylight   \n",
       "1  Matched         Block      NaN  ...      Wet  Dark - Street Lights On   \n",
       "2  Matched         Block      NaN  ...      Dry                 Daylight   \n",
       "3  Matched         Block      NaN  ...      Dry                 Daylight   \n",
       "4  Matched  Intersection  34387.0  ...      Wet                 Daylight   \n",
       "\n",
       "  PEDROWNOTGRNT  SDOTCOLNUM SPEEDING ST_COLCODE  \\\n",
       "0           NaN         NaN     <NA>         10   \n",
       "1           NaN   6354039.0     <NA>         11   \n",
       "2           NaN   4323031.0     <NA>         32   \n",
       "3           NaN         NaN     <NA>         23   \n",
       "4           NaN   4028032.0     <NA>         10   \n",
       "\n",
       "                                          ST_COLDESC  SEGLANEKEY  \\\n",
       "0                                  Entering at angle           0   \n",
       "1  From same direction - both going straight - bo...           0   \n",
       "2                             One parked--one moving           0   \n",
       "3                   From same direction - all others           0   \n",
       "4                                  Entering at angle           0   \n",
       "\n",
       "   CROSSWALKKEY  HITPARKEDCAR  \n",
       "0             0             N  \n",
       "1             0             N  \n",
       "2             0             N  \n",
       "3             0             N  \n",
       "4             0             N  \n",
       "\n",
       "[5 rows x 38 columns]"
      ]
     },
     "execution_count": 2,
     "metadata": {},
     "output_type": "execute_result"
    }
   ],
   "source": [
    "import itertools\n",
    "import matplotlib.pyplot as plt\n",
    "from matplotlib.ticker import NullFormatter\n",
    "import pandas as pd\n",
    "import numpy as np\n",
    "import matplotlib.ticker as ticker\n",
    "import matplotlib.pyplot as plot\n",
    "from sklearn import preprocessing\n",
    "%matplotlib inline\n",
    "\n",
    "\n",
    "\n",
    "df = pd.read_csv('C:\\\\Users\\\\Dummy\\\\Pictures\\\\py\\\\Data-Collisions.csv',dtype={'SPEEDING': \"string\"})\n",
    "df.head()"
   ]
  },
  {
   "cell_type": "markdown",
   "metadata": {},
   "source": [
    "Below command will tell us the number of columns and type of the column in the data set we have taken. "
   ]
  },
  {
   "cell_type": "code",
   "execution_count": 3,
   "metadata": {},
   "outputs": [
    {
     "data": {
      "text/plain": [
       "SEVERITYCODE        int64\n",
       "X                 float64\n",
       "Y                 float64\n",
       "OBJECTID            int64\n",
       "INCKEY              int64\n",
       "COLDETKEY           int64\n",
       "REPORTNO           object\n",
       "STATUS             object\n",
       "ADDRTYPE           object\n",
       "INTKEY            float64\n",
       "LOCATION           object\n",
       "EXCEPTRSNCODE      object\n",
       "EXCEPTRSNDESC      object\n",
       "SEVERITYCODE.1      int64\n",
       "SEVERITYDESC       object\n",
       "COLLISIONTYPE      object\n",
       "PERSONCOUNT         int64\n",
       "PEDCOUNT            int64\n",
       "PEDCYLCOUNT         int64\n",
       "VEHCOUNT            int64\n",
       "INCDATE            object\n",
       "INCDTTM            object\n",
       "JUNCTIONTYPE       object\n",
       "SDOT_COLCODE        int64\n",
       "SDOT_COLDESC       object\n",
       "INATTENTIONIND     object\n",
       "UNDERINFL          object\n",
       "WEATHER            object\n",
       "ROADCOND           object\n",
       "LIGHTCOND          object\n",
       "PEDROWNOTGRNT      object\n",
       "SDOTCOLNUM        float64\n",
       "SPEEDING           string\n",
       "ST_COLCODE         object\n",
       "ST_COLDESC         object\n",
       "SEGLANEKEY          int64\n",
       "CROSSWALKKEY        int64\n",
       "HITPARKEDCAR       object\n",
       "dtype: object"
      ]
     },
     "execution_count": 3,
     "metadata": {},
     "output_type": "execute_result"
    }
   ],
   "source": [
    "df.dtypes"
   ]
  },
  {
   "cell_type": "code",
   "execution_count": 4,
   "metadata": {},
   "outputs": [
    {
     "data": {
      "text/html": [
       "<div>\n",
       "<style scoped>\n",
       "    .dataframe tbody tr th:only-of-type {\n",
       "        vertical-align: middle;\n",
       "    }\n",
       "\n",
       "    .dataframe tbody tr th {\n",
       "        vertical-align: top;\n",
       "    }\n",
       "\n",
       "    .dataframe thead th {\n",
       "        text-align: right;\n",
       "    }\n",
       "</style>\n",
       "<table border=\"1\" class=\"dataframe\">\n",
       "  <thead>\n",
       "    <tr style=\"text-align: right;\">\n",
       "      <th></th>\n",
       "      <th>SEVERITYCODE</th>\n",
       "      <th>X</th>\n",
       "      <th>Y</th>\n",
       "      <th>OBJECTID</th>\n",
       "      <th>INCKEY</th>\n",
       "      <th>COLDETKEY</th>\n",
       "      <th>INTKEY</th>\n",
       "      <th>SEVERITYCODE.1</th>\n",
       "      <th>PERSONCOUNT</th>\n",
       "      <th>PEDCOUNT</th>\n",
       "      <th>PEDCYLCOUNT</th>\n",
       "      <th>VEHCOUNT</th>\n",
       "      <th>SDOT_COLCODE</th>\n",
       "      <th>SDOTCOLNUM</th>\n",
       "      <th>SEGLANEKEY</th>\n",
       "      <th>CROSSWALKKEY</th>\n",
       "    </tr>\n",
       "  </thead>\n",
       "  <tbody>\n",
       "    <tr>\n",
       "      <th>count</th>\n",
       "      <td>194673.000000</td>\n",
       "      <td>189339.000000</td>\n",
       "      <td>189339.000000</td>\n",
       "      <td>194673.000000</td>\n",
       "      <td>194673.000000</td>\n",
       "      <td>194673.000000</td>\n",
       "      <td>65070.000000</td>\n",
       "      <td>194673.000000</td>\n",
       "      <td>194673.000000</td>\n",
       "      <td>194673.000000</td>\n",
       "      <td>194673.000000</td>\n",
       "      <td>194673.000000</td>\n",
       "      <td>194673.000000</td>\n",
       "      <td>1.149360e+05</td>\n",
       "      <td>194673.000000</td>\n",
       "      <td>1.946730e+05</td>\n",
       "    </tr>\n",
       "    <tr>\n",
       "      <th>mean</th>\n",
       "      <td>1.298901</td>\n",
       "      <td>-122.330518</td>\n",
       "      <td>47.619543</td>\n",
       "      <td>108479.364930</td>\n",
       "      <td>141091.456350</td>\n",
       "      <td>141298.811381</td>\n",
       "      <td>37558.450576</td>\n",
       "      <td>1.298901</td>\n",
       "      <td>2.444427</td>\n",
       "      <td>0.037139</td>\n",
       "      <td>0.028391</td>\n",
       "      <td>1.920780</td>\n",
       "      <td>13.867768</td>\n",
       "      <td>7.972521e+06</td>\n",
       "      <td>269.401114</td>\n",
       "      <td>9.782452e+03</td>\n",
       "    </tr>\n",
       "    <tr>\n",
       "      <th>std</th>\n",
       "      <td>0.457778</td>\n",
       "      <td>0.029976</td>\n",
       "      <td>0.056157</td>\n",
       "      <td>62649.722558</td>\n",
       "      <td>86634.402737</td>\n",
       "      <td>86986.542110</td>\n",
       "      <td>51745.990273</td>\n",
       "      <td>0.457778</td>\n",
       "      <td>1.345929</td>\n",
       "      <td>0.198150</td>\n",
       "      <td>0.167413</td>\n",
       "      <td>0.631047</td>\n",
       "      <td>6.868755</td>\n",
       "      <td>2.553533e+06</td>\n",
       "      <td>3315.776055</td>\n",
       "      <td>7.226926e+04</td>\n",
       "    </tr>\n",
       "    <tr>\n",
       "      <th>min</th>\n",
       "      <td>1.000000</td>\n",
       "      <td>-122.419091</td>\n",
       "      <td>47.495573</td>\n",
       "      <td>1.000000</td>\n",
       "      <td>1001.000000</td>\n",
       "      <td>1001.000000</td>\n",
       "      <td>23807.000000</td>\n",
       "      <td>1.000000</td>\n",
       "      <td>0.000000</td>\n",
       "      <td>0.000000</td>\n",
       "      <td>0.000000</td>\n",
       "      <td>0.000000</td>\n",
       "      <td>0.000000</td>\n",
       "      <td>1.007024e+06</td>\n",
       "      <td>0.000000</td>\n",
       "      <td>0.000000e+00</td>\n",
       "    </tr>\n",
       "    <tr>\n",
       "      <th>25%</th>\n",
       "      <td>1.000000</td>\n",
       "      <td>-122.348673</td>\n",
       "      <td>47.575956</td>\n",
       "      <td>54267.000000</td>\n",
       "      <td>70383.000000</td>\n",
       "      <td>70383.000000</td>\n",
       "      <td>28667.000000</td>\n",
       "      <td>1.000000</td>\n",
       "      <td>2.000000</td>\n",
       "      <td>0.000000</td>\n",
       "      <td>0.000000</td>\n",
       "      <td>2.000000</td>\n",
       "      <td>11.000000</td>\n",
       "      <td>6.040015e+06</td>\n",
       "      <td>0.000000</td>\n",
       "      <td>0.000000e+00</td>\n",
       "    </tr>\n",
       "    <tr>\n",
       "      <th>50%</th>\n",
       "      <td>1.000000</td>\n",
       "      <td>-122.330224</td>\n",
       "      <td>47.615369</td>\n",
       "      <td>106912.000000</td>\n",
       "      <td>123363.000000</td>\n",
       "      <td>123363.000000</td>\n",
       "      <td>29973.000000</td>\n",
       "      <td>1.000000</td>\n",
       "      <td>2.000000</td>\n",
       "      <td>0.000000</td>\n",
       "      <td>0.000000</td>\n",
       "      <td>2.000000</td>\n",
       "      <td>13.000000</td>\n",
       "      <td>8.023022e+06</td>\n",
       "      <td>0.000000</td>\n",
       "      <td>0.000000e+00</td>\n",
       "    </tr>\n",
       "    <tr>\n",
       "      <th>75%</th>\n",
       "      <td>2.000000</td>\n",
       "      <td>-122.311937</td>\n",
       "      <td>47.663664</td>\n",
       "      <td>162272.000000</td>\n",
       "      <td>203319.000000</td>\n",
       "      <td>203459.000000</td>\n",
       "      <td>33973.000000</td>\n",
       "      <td>2.000000</td>\n",
       "      <td>3.000000</td>\n",
       "      <td>0.000000</td>\n",
       "      <td>0.000000</td>\n",
       "      <td>2.000000</td>\n",
       "      <td>14.000000</td>\n",
       "      <td>1.015501e+07</td>\n",
       "      <td>0.000000</td>\n",
       "      <td>0.000000e+00</td>\n",
       "    </tr>\n",
       "    <tr>\n",
       "      <th>max</th>\n",
       "      <td>2.000000</td>\n",
       "      <td>-122.238949</td>\n",
       "      <td>47.734142</td>\n",
       "      <td>219547.000000</td>\n",
       "      <td>331454.000000</td>\n",
       "      <td>332954.000000</td>\n",
       "      <td>757580.000000</td>\n",
       "      <td>2.000000</td>\n",
       "      <td>81.000000</td>\n",
       "      <td>6.000000</td>\n",
       "      <td>2.000000</td>\n",
       "      <td>12.000000</td>\n",
       "      <td>69.000000</td>\n",
       "      <td>1.307202e+07</td>\n",
       "      <td>525241.000000</td>\n",
       "      <td>5.239700e+06</td>\n",
       "    </tr>\n",
       "  </tbody>\n",
       "</table>\n",
       "</div>"
      ],
      "text/plain": [
       "        SEVERITYCODE              X              Y       OBJECTID  \\\n",
       "count  194673.000000  189339.000000  189339.000000  194673.000000   \n",
       "mean        1.298901    -122.330518      47.619543  108479.364930   \n",
       "std         0.457778       0.029976       0.056157   62649.722558   \n",
       "min         1.000000    -122.419091      47.495573       1.000000   \n",
       "25%         1.000000    -122.348673      47.575956   54267.000000   \n",
       "50%         1.000000    -122.330224      47.615369  106912.000000   \n",
       "75%         2.000000    -122.311937      47.663664  162272.000000   \n",
       "max         2.000000    -122.238949      47.734142  219547.000000   \n",
       "\n",
       "              INCKEY      COLDETKEY         INTKEY  SEVERITYCODE.1  \\\n",
       "count  194673.000000  194673.000000   65070.000000   194673.000000   \n",
       "mean   141091.456350  141298.811381   37558.450576        1.298901   \n",
       "std     86634.402737   86986.542110   51745.990273        0.457778   \n",
       "min      1001.000000    1001.000000   23807.000000        1.000000   \n",
       "25%     70383.000000   70383.000000   28667.000000        1.000000   \n",
       "50%    123363.000000  123363.000000   29973.000000        1.000000   \n",
       "75%    203319.000000  203459.000000   33973.000000        2.000000   \n",
       "max    331454.000000  332954.000000  757580.000000        2.000000   \n",
       "\n",
       "         PERSONCOUNT       PEDCOUNT    PEDCYLCOUNT       VEHCOUNT  \\\n",
       "count  194673.000000  194673.000000  194673.000000  194673.000000   \n",
       "mean        2.444427       0.037139       0.028391       1.920780   \n",
       "std         1.345929       0.198150       0.167413       0.631047   \n",
       "min         0.000000       0.000000       0.000000       0.000000   \n",
       "25%         2.000000       0.000000       0.000000       2.000000   \n",
       "50%         2.000000       0.000000       0.000000       2.000000   \n",
       "75%         3.000000       0.000000       0.000000       2.000000   \n",
       "max        81.000000       6.000000       2.000000      12.000000   \n",
       "\n",
       "        SDOT_COLCODE    SDOTCOLNUM     SEGLANEKEY  CROSSWALKKEY  \n",
       "count  194673.000000  1.149360e+05  194673.000000  1.946730e+05  \n",
       "mean       13.867768  7.972521e+06     269.401114  9.782452e+03  \n",
       "std         6.868755  2.553533e+06    3315.776055  7.226926e+04  \n",
       "min         0.000000  1.007024e+06       0.000000  0.000000e+00  \n",
       "25%        11.000000  6.040015e+06       0.000000  0.000000e+00  \n",
       "50%        13.000000  8.023022e+06       0.000000  0.000000e+00  \n",
       "75%        14.000000  1.015501e+07       0.000000  0.000000e+00  \n",
       "max        69.000000  1.307202e+07  525241.000000  5.239700e+06  "
      ]
     },
     "execution_count": 4,
     "metadata": {},
     "output_type": "execute_result"
    }
   ],
   "source": [
    "df.describe()"
   ]
  },
  {
   "cell_type": "markdown",
   "metadata": {},
   "source": [
    "Below command Value counts will give us the information of the unique count of severity code available in the data set."
   ]
  },
  {
   "cell_type": "code",
   "execution_count": 5,
   "metadata": {},
   "outputs": [
    {
     "data": {
      "text/plain": [
       "1    136485\n",
       "2     58188\n",
       "Name: SEVERITYCODE, dtype: int64"
      ]
     },
     "execution_count": 5,
     "metadata": {},
     "output_type": "execute_result"
    }
   ],
   "source": [
    "idx=df['SEVERITYCODE']\n",
    "idx.value_counts() "
   ]
  },
  {
   "cell_type": "code",
   "execution_count": 5,
   "metadata": {},
   "outputs": [
    {
     "data": {
      "text/plain": [
       "SEVERITYCODE  ADDRTYPE    \n",
       "1             Block           0.718590\n",
       "              Intersection    0.276445\n",
       "              Alley           0.004965\n",
       "2             Block           0.518923\n",
       "              Intersection    0.479663\n",
       "              Alley           0.001414\n",
       "Name: ADDRTYPE, dtype: float64"
      ]
     },
     "execution_count": 5,
     "metadata": {},
     "output_type": "execute_result"
    }
   ],
   "source": [
    "df.groupby(['SEVERITYCODE'])['ADDRTYPE'].value_counts(normalize=True)"
   ]
  },
  {
   "cell_type": "markdown",
   "metadata": {},
   "source": [
    "### Methodology Section"
   ]
  },
  {
   "cell_type": "markdown",
   "metadata": {},
   "source": [
    "#### K-Nearest Neighbor (KNN)\n",
    "\n",
    "KNN will help us predict the severity code of an outcome by finding the most similar to data point within k distance.\n",
    "\n",
    "#### Decision Tree\n",
    "\n",
    "A decision tree model gives us a layout of all possible outcomes so we can fully analyze the consequences of a decision. It context, the decision tree observes all possible outcomes of different weather conditions.\n",
    "\n",
    "#### Logistic Regression\n",
    "\n",
    "Because our dataset only provides us with two severity code outcomes, our model will only predict one of those two classes. This makes our data binary, which is perfect to use with logistic regression."
   ]
  },
  {
   "cell_type": "markdown",
   "metadata": {},
   "source": [
    "### Analysis Section"
   ]
  },
  {
   "cell_type": "code",
   "execution_count": 10,
   "metadata": {},
   "outputs": [
    {
     "name": "stdout",
     "output_type": "stream",
     "text": [
      "Collecting package metadata (current_repodata.json): ...working... done\n",
      "Solving environment: ...working... done\n",
      "\n",
      "# All requested packages already installed.\n",
      "\n"
     ]
    }
   ],
   "source": [
    "!conda install -c anaconda seaborn -y"
   ]
  },
  {
   "cell_type": "code",
   "execution_count": 50,
   "metadata": {},
   "outputs": [
    {
     "data": {
      "image/png": "[encoded data removed]",
      "text/plain": [
       "<Figure size 864x216 with 2 Axes>"
      ]
     },
     "metadata": {
      "needs_background": "light"
     },
     "output_type": "display_data"
    }
   ],
   "source": [
    "import seaborn as sns\n",
    "\n",
    "bins = np.linspace(df.SEVERITYCODE.min(), df.SEVERITYCODE.max(), 10)\n",
    "g = sns.FacetGrid(df, col=\"SEVERITYCODE\", hue=\"WEATHER\", palette=\"Set1\", col_wrap=4)\n",
    "g.map(plt.hist, 'SEVERITYCODE', bins=bins, ec=\"k\")\n",
    "\n",
    "g.axes[-1].legend()\n",
    "plt.show()"
   ]
  },
  {
   "cell_type": "code",
   "execution_count": 7,
   "metadata": {},
   "outputs": [
    {
     "data": {
      "text/html": [
       "<div>\n",
       "<style scoped>\n",
       "    .dataframe tbody tr th:only-of-type {\n",
       "        vertical-align: middle;\n",
       "    }\n",
       "\n",
       "    .dataframe tbody tr th {\n",
       "        vertical-align: top;\n",
       "    }\n",
       "\n",
       "    .dataframe thead th {\n",
       "        text-align: right;\n",
       "    }\n",
       "</style>\n",
       "<table border=\"1\" class=\"dataframe\">\n",
       "  <thead>\n",
       "    <tr style=\"text-align: right;\">\n",
       "      <th></th>\n",
       "      <th>ADDRTYPE</th>\n",
       "      <th>ROADCOND</th>\n",
       "      <th>WEATHER</th>\n",
       "      <th>LIGHTCOND</th>\n",
       "    </tr>\n",
       "  </thead>\n",
       "  <tbody>\n",
       "    <tr>\n",
       "      <th>0</th>\n",
       "      <td>Intersection</td>\n",
       "      <td>Wet</td>\n",
       "      <td>Overcast</td>\n",
       "      <td>Daylight</td>\n",
       "    </tr>\n",
       "    <tr>\n",
       "      <th>1</th>\n",
       "      <td>Block</td>\n",
       "      <td>Wet</td>\n",
       "      <td>Raining</td>\n",
       "      <td>Dark - Street Lights On</td>\n",
       "    </tr>\n",
       "    <tr>\n",
       "      <th>2</th>\n",
       "      <td>Block</td>\n",
       "      <td>Dry</td>\n",
       "      <td>Overcast</td>\n",
       "      <td>Daylight</td>\n",
       "    </tr>\n",
       "    <tr>\n",
       "      <th>3</th>\n",
       "      <td>Block</td>\n",
       "      <td>Dry</td>\n",
       "      <td>Clear</td>\n",
       "      <td>Daylight</td>\n",
       "    </tr>\n",
       "    <tr>\n",
       "      <th>4</th>\n",
       "      <td>Intersection</td>\n",
       "      <td>Wet</td>\n",
       "      <td>Raining</td>\n",
       "      <td>Daylight</td>\n",
       "    </tr>\n",
       "  </tbody>\n",
       "</table>\n",
       "</div>"
      ],
      "text/plain": [
       "       ADDRTYPE ROADCOND   WEATHER                LIGHTCOND\n",
       "0  Intersection      Wet  Overcast                 Daylight\n",
       "1         Block      Wet   Raining  Dark - Street Lights On\n",
       "2         Block      Dry  Overcast                 Daylight\n",
       "3         Block      Dry     Clear                 Daylight\n",
       "4  Intersection      Wet   Raining                 Daylight"
      ]
     },
     "execution_count": 7,
     "metadata": {},
     "output_type": "execute_result"
    }
   ],
   "source": [
    "ds=df[{'ADDRTYPE','WEATHER','ROADCOND','LIGHTCOND'}]\n",
    "ds=ds.fillna(0)\n",
    "ds.head()"
   ]
  },
  {
   "cell_type": "code",
   "execution_count": 8,
   "metadata": {},
   "outputs": [],
   "source": [
    "ds['ADDRTYPE']=ds['ADDRTYPE'].replace(to_replace=['Intersection', 'Block', 'Alley'], value=[1,2,3])\n",
    "ds['WEATHER']=ds['WEATHER'].replace(to_replace=['Overcast', 'Raining', 'Clear', 'Unknown', 'Other', 'Snowing',\n",
    "       'Fog/Smog/Smoke', 'Sleet/Hail/Freezing Rain', 'Blowing Sand/Dirt','Severe Crosswind', 'Partly Cloudy'], \n",
    "                                    value=[1,2,3,4,5,6,7,8,9,10,11])\n",
    "ds['ROADCOND']=ds['ROADCOND'].replace(to_replace=['Wet', 'Dry', 'xx', 'Unknown', 'Snow/Slush', 'Ice', 'Other',\n",
    "       'Sand/Mud/Dirt', 'Standing Water', 'Oil'], value=[1,2,3,4,5,6,7,8,9,10])\n",
    "ds['LIGHTCOND']=ds['LIGHTCOND'].replace(to_replace=['Daylight', 'Dark - Street Lights On', 'Dark - No Street Lights', 'Unknown', 'Dusk', 'Dawn', 'Dark - Street Lights Off', 'Other',\n",
    "       'Dark - Unknown Lighting'], value=[1,2,3,4,5,6,7,8,9])"
   ]
  },
  {
   "cell_type": "code",
   "execution_count": 9,
   "metadata": {},
   "outputs": [
    {
     "data": {
      "text/html": [
       "<div>\n",
       "<style scoped>\n",
       "    .dataframe tbody tr th:only-of-type {\n",
       "        vertical-align: middle;\n",
       "    }\n",
       "\n",
       "    .dataframe tbody tr th {\n",
       "        vertical-align: top;\n",
       "    }\n",
       "\n",
       "    .dataframe thead th {\n",
       "        text-align: right;\n",
       "    }\n",
       "</style>\n",
       "<table border=\"1\" class=\"dataframe\">\n",
       "  <thead>\n",
       "    <tr style=\"text-align: right;\">\n",
       "      <th></th>\n",
       "      <th>ADDRTYPE</th>\n",
       "      <th>ROADCOND</th>\n",
       "      <th>WEATHER</th>\n",
       "      <th>LIGHTCOND</th>\n",
       "    </tr>\n",
       "  </thead>\n",
       "  <tbody>\n",
       "    <tr>\n",
       "      <th>0</th>\n",
       "      <td>1</td>\n",
       "      <td>1</td>\n",
       "      <td>1</td>\n",
       "      <td>1</td>\n",
       "    </tr>\n",
       "    <tr>\n",
       "      <th>1</th>\n",
       "      <td>2</td>\n",
       "      <td>1</td>\n",
       "      <td>2</td>\n",
       "      <td>2</td>\n",
       "    </tr>\n",
       "    <tr>\n",
       "      <th>2</th>\n",
       "      <td>2</td>\n",
       "      <td>2</td>\n",
       "      <td>1</td>\n",
       "      <td>1</td>\n",
       "    </tr>\n",
       "    <tr>\n",
       "      <th>3</th>\n",
       "      <td>2</td>\n",
       "      <td>2</td>\n",
       "      <td>3</td>\n",
       "      <td>1</td>\n",
       "    </tr>\n",
       "    <tr>\n",
       "      <th>4</th>\n",
       "      <td>1</td>\n",
       "      <td>1</td>\n",
       "      <td>2</td>\n",
       "      <td>1</td>\n",
       "    </tr>\n",
       "  </tbody>\n",
       "</table>\n",
       "</div>"
      ],
      "text/plain": [
       "   ADDRTYPE  ROADCOND  WEATHER  LIGHTCOND\n",
       "0         1         1        1          1\n",
       "1         2         1        2          2\n",
       "2         2         2        1          1\n",
       "3         2         2        3          1\n",
       "4         1         1        2          1"
      ]
     },
     "execution_count": 9,
     "metadata": {},
     "output_type": "execute_result"
    }
   ],
   "source": [
    "ds.head()"
   ]
  },
  {
   "cell_type": "code",
   "execution_count": 10,
   "metadata": {},
   "outputs": [
    {
     "data": {
      "text/html": [
       "<div>\n",
       "<style scoped>\n",
       "    .dataframe tbody tr th:only-of-type {\n",
       "        vertical-align: middle;\n",
       "    }\n",
       "\n",
       "    .dataframe tbody tr th {\n",
       "        vertical-align: top;\n",
       "    }\n",
       "\n",
       "    .dataframe thead th {\n",
       "        text-align: right;\n",
       "    }\n",
       "</style>\n",
       "<table border=\"1\" class=\"dataframe\">\n",
       "  <thead>\n",
       "    <tr style=\"text-align: right;\">\n",
       "      <th></th>\n",
       "      <th>ADDRTYPE</th>\n",
       "      <th>ROADCOND</th>\n",
       "      <th>WEATHER</th>\n",
       "      <th>LIGHTCOND</th>\n",
       "    </tr>\n",
       "    <tr>\n",
       "      <th>SEVERITYCODE</th>\n",
       "      <th></th>\n",
       "      <th></th>\n",
       "      <th></th>\n",
       "      <th></th>\n",
       "    </tr>\n",
       "  </thead>\n",
       "  <tbody>\n",
       "    <tr>\n",
       "      <th>1</th>\n",
       "      <td>134750</td>\n",
       "      <td>132534</td>\n",
       "      <td>132488</td>\n",
       "      <td>132405</td>\n",
       "    </tr>\n",
       "    <tr>\n",
       "      <th>2</th>\n",
       "      <td>57997</td>\n",
       "      <td>57128</td>\n",
       "      <td>57104</td>\n",
       "      <td>57098</td>\n",
       "    </tr>\n",
       "  </tbody>\n",
       "</table>\n",
       "</div>"
      ],
      "text/plain": [
       "              ADDRTYPE  ROADCOND  WEATHER  LIGHTCOND\n",
       "SEVERITYCODE                                        \n",
       "1               134750    132534   132488     132405\n",
       "2                57997     57128    57104      57098"
      ]
     },
     "execution_count": 10,
     "metadata": {},
     "output_type": "execute_result"
    }
   ],
   "source": [
    "mx=df[{'SEVERITYCODE','ADDRTYPE','WEATHER','ROADCOND','LIGHTCOND'}].groupby(['SEVERITYCODE']).count()\n",
    "mx"
   ]
  },
  {
   "cell_type": "code",
   "execution_count": 52,
   "metadata": {},
   "outputs": [
    {
     "data": {
      "image/png": "[encoded data removed]",
      "text/plain": [
       "<Figure size 432x288 with 1 Axes>"
      ]
     },
     "metadata": {
      "needs_background": "light"
     },
     "output_type": "display_data"
    }
   ],
   "source": [
    "mx.plot.bar(rot=15, title=\"No of Accidents occur due to the Conditons\");\n",
    "plot.show();"
   ]
  },
  {
   "cell_type": "code",
   "execution_count": 8,
   "metadata": {},
   "outputs": [
    {
     "name": "stdout",
     "output_type": "stream",
     "text": [
      "Collecting folium\n",
      "  Downloading folium-0.11.0-py2.py3-none-any.whl (93 kB)\n",
      "Requirement already satisfied: numpy in d:\\anaconda\\lib\\site-packages (from folium) (1.18.5)\n",
      "Collecting branca>=0.3.0\n",
      "  Downloading branca-0.4.1-py3-none-any.whl (24 kB)\n",
      "Requirement already satisfied: jinja2>=2.9 in d:\\anaconda\\lib\\site-packages (from folium) (2.11.2)\n",
      "Requirement already satisfied: requests in d:\\anaconda\\lib\\site-packages (from folium) (2.24.0)\n",
      "Requirement already satisfied: MarkupSafe>=0.23 in d:\\anaconda\\lib\\site-packages (from jinja2>=2.9->folium) (1.1.1)\n",
      "Requirement already satisfied: chardet<4,>=3.0.2 in d:\\anaconda\\lib\\site-packages (from requests->folium) (3.0.4)\n",
      "Requirement already satisfied: certifi>=2017.4.17 in d:\\anaconda\\lib\\site-packages (from requests->folium) (2020.6.20)\n",
      "Requirement already satisfied: idna<3,>=2.5 in d:\\anaconda\\lib\\site-packages (from requests->folium) (2.10)\n",
      "Requirement already satisfied: urllib3!=1.25.0,!=1.25.1,<1.26,>=1.21.1 in d:\\anaconda\\lib\\site-packages (from requests->folium) (1.25.9)\n",
      "Installing collected packages: branca, folium\n",
      "Successfully installed branca-0.4.1 folium-0.11.0\n"
     ]
    }
   ],
   "source": [
    "!pip install folium"
   ]
  },
  {
   "cell_type": "code",
   "execution_count": 44,
   "metadata": {
    "scrolled": true
   },
   "outputs": [
    {
     "data": {
      "text/html": [
       "<div style=\"width:100%;\"><div style=\"position:relative;width:100%;height:0;padding-bottom:60%;\"><span style=\"color:#565656\">Make this Notebook Trusted to load map: File -> Trust Notebook</span><iframe src=\"about:blank\" style=\"position:absolute;width:100%;height:100%;left:0;top:0;border:none !important;\" data-html=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 onload=\"this.contentDocument.open();this.contentDocument.write(atob(this.getAttribute('data-html')));this.contentDocument.close();\" allowfullscreen webkitallowfullscreen mozallowfullscreen></iframe></div></div>"
      ],
      "text/plain": [
       "<folium.folium.Map at 0x1aa1438c070>"
      ]
     },
     "execution_count": 44,
     "metadata": {},
     "output_type": "execute_result"
    }
   ],
   "source": [
    "import folium as folium\n",
    "SF_COORDINATES = (37.76, -122.45)\n",
    "\n",
    "mapset = df[{'SEVERITYCODE','X','Y'}]\n",
    "mapset = mapset.dropna()\n",
    "mapset.head()\n",
    "mapset1=mapset[0:100]\n",
    "\n",
    "latmean=df['Y'].mean() \n",
    "lonmean=df['X'].mean() \n",
    "map1 = folium.Map(location=[latmean,lonmean], \n",
    "        zoom_start=12) \n",
    "\n",
    "def color(sev): \n",
    "    if sev == 1: \n",
    "         col = 'green'\n",
    "    elif sev == 2: \n",
    "         col = 'red'\n",
    "    return (col) \n",
    "for lat,lan,sev in zip(mapset1['Y'],mapset1['X'],mapset1['SEVERITYCODE']): \n",
    "    \n",
    "    folium.Marker(location=[lat,lan], \n",
    "                  icon= folium.Icon(color=color(sev), \n",
    "                  icon_color='yellow',icon = 'cloud')).add_to(map1) \n",
    "\n",
    "map1\n"
   ]
  },
  {
   "cell_type": "markdown",
   "metadata": {},
   "source": [
    "### Define X and y "
   ]
  },
  {
   "cell_type": "code",
   "execution_count": 153,
   "metadata": {},
   "outputs": [
    {
     "data": {
      "text/html": [
       "<div>\n",
       "<style scoped>\n",
       "    .dataframe tbody tr th:only-of-type {\n",
       "        vertical-align: middle;\n",
       "    }\n",
       "\n",
       "    .dataframe tbody tr th {\n",
       "        vertical-align: top;\n",
       "    }\n",
       "\n",
       "    .dataframe thead th {\n",
       "        text-align: right;\n",
       "    }\n",
       "</style>\n",
       "<table border=\"1\" class=\"dataframe\">\n",
       "  <thead>\n",
       "    <tr style=\"text-align: right;\">\n",
       "      <th></th>\n",
       "      <th>ROADCOND</th>\n",
       "      <th>ADDRTYPE</th>\n",
       "      <th>LIGHTCOND</th>\n",
       "      <th>WEATHER</th>\n",
       "    </tr>\n",
       "  </thead>\n",
       "  <tbody>\n",
       "    <tr>\n",
       "      <th>0</th>\n",
       "      <td>1</td>\n",
       "      <td>1</td>\n",
       "      <td>1</td>\n",
       "      <td>1</td>\n",
       "    </tr>\n",
       "    <tr>\n",
       "      <th>1</th>\n",
       "      <td>1</td>\n",
       "      <td>2</td>\n",
       "      <td>2</td>\n",
       "      <td>2</td>\n",
       "    </tr>\n",
       "    <tr>\n",
       "      <th>2</th>\n",
       "      <td>2</td>\n",
       "      <td>2</td>\n",
       "      <td>1</td>\n",
       "      <td>1</td>\n",
       "    </tr>\n",
       "    <tr>\n",
       "      <th>3</th>\n",
       "      <td>2</td>\n",
       "      <td>2</td>\n",
       "      <td>1</td>\n",
       "      <td>3</td>\n",
       "    </tr>\n",
       "    <tr>\n",
       "      <th>4</th>\n",
       "      <td>1</td>\n",
       "      <td>1</td>\n",
       "      <td>1</td>\n",
       "      <td>2</td>\n",
       "    </tr>\n",
       "  </tbody>\n",
       "</table>\n",
       "</div>"
      ],
      "text/plain": [
       "   ROADCOND  ADDRTYPE  LIGHTCOND  WEATHER\n",
       "0         1         1          1        1\n",
       "1         1         2          2        2\n",
       "2         2         2          1        1\n",
       "3         2         2          1        3\n",
       "4         1         1          1        2"
      ]
     },
     "execution_count": 153,
     "metadata": {},
     "output_type": "execute_result"
    }
   ],
   "source": [
    "X = ds\n",
    "X[0:5]"
   ]
  },
  {
   "cell_type": "code",
   "execution_count": 154,
   "metadata": {},
   "outputs": [
    {
     "data": {
      "text/plain": [
       "array([2, 1, 1, 1, 2], dtype=int64)"
      ]
     },
     "execution_count": 154,
     "metadata": {},
     "output_type": "execute_result"
    }
   ],
   "source": [
    "y = df['SEVERITYCODE'].values\n",
    "y[0:5]"
   ]
  },
  {
   "cell_type": "markdown",
   "metadata": {},
   "source": [
    "### Normalize Data"
   ]
  },
  {
   "cell_type": "code",
   "execution_count": 155,
   "metadata": {},
   "outputs": [
    {
     "data": {
      "text/plain": [
       "array([[-0.97503088, -1.28668708, -0.5419915 , -1.57025352],\n",
       "       [-0.97503088,  0.69338623,  0.25809276, -0.57904747],\n",
       "       [ 0.09367727,  0.69338623, -0.5419915 , -1.57025352],\n",
       "       [ 0.09367727,  0.69338623, -0.5419915 ,  0.41215858],\n",
       "       [-0.97503088, -1.28668708, -0.5419915 , -0.57904747]])"
      ]
     },
     "execution_count": 155,
     "metadata": {},
     "output_type": "execute_result"
    }
   ],
   "source": [
    "X= preprocessing.StandardScaler().fit(X).transform(X)\n",
    "X[0:5]"
   ]
  },
  {
   "cell_type": "markdown",
   "metadata": {},
   "source": [
    "### Train/Test Split "
   ]
  },
  {
   "cell_type": "markdown",
   "metadata": {},
   "source": [
    " We will use 20% of our data for testing and 80% for training."
   ]
  },
  {
   "cell_type": "code",
   "execution_count": 156,
   "metadata": {},
   "outputs": [
    {
     "name": "stdout",
     "output_type": "stream",
     "text": [
      "Train set: (155738, 4) (155738,)\n",
      "Test set: (38935, 4) (38935,)\n"
     ]
    }
   ],
   "source": [
    "from sklearn.model_selection import train_test_split\n",
    "X_train,X_test,y_train,y_test= train_test_split(X,y, test_size=0.2, random_state=4)\n",
    "print ('Train set:', X_train.shape,  y_train.shape)\n",
    "print ('Test set:', X_test.shape,  y_test.shape)"
   ]
  },
  {
   "cell_type": "code",
   "execution_count": 158,
   "metadata": {},
   "outputs": [
    {
     "name": "stdout",
     "output_type": "stream",
     "text": [
      "Train set Accuracy:  0.6890675365036151\n",
      "Test set Accuracy:  0.6888917426480031\n"
     ]
    }
   ],
   "source": [
    "from sklearn.neighbors import KNeighborsClassifier\n",
    "k=5\n",
    "neighK5 = KNeighborsClassifier(n_neighbors = k).fit(X_train,y_train)\n",
    "neighK5\n",
    "\n",
    "yhat = neighK5.predict(X_test)\n",
    "yhat[0:5]\n",
    "\n",
    "from sklearn import metrics\n",
    "print(\"Train set Accuracy: \", metrics.accuracy_score(y_train, neighK5.predict(X_train)))\n",
    "print(\"Test set Accuracy: \", metrics.accuracy_score(y_test, yhat))"
   ]
  },
  {
   "cell_type": "code",
   "execution_count": 159,
   "metadata": {},
   "outputs": [
    {
     "data": {
      "image/png": "[encoded data removed]",
      "text/plain": [
       "<Figure size 432x288 with 1 Axes>"
      ]
     },
     "metadata": {
      "needs_background": "light"
     },
     "output_type": "display_data"
    },
    {
     "name": "stdout",
     "output_type": "stream",
     "text": [
      "Best accuracy: 0.6954924874791318 k= 6\n"
     ]
    }
   ],
   "source": [
    "Ks = 10\n",
    "mean_acc = np.zeros((Ks-1))\n",
    "std_acc = np.zeros((Ks-1))\n",
    "\n",
    "ConfustionMx = [];\n",
    "for n in range(1,Ks):\n",
    "    \n",
    "    \n",
    "    neigh = KNeighborsClassifier(n_neighbors = n).fit(X_train,y_train)\n",
    "    yhat=neigh.predict(X_test)\n",
    "    mean_acc[n-1] = metrics.accuracy_score(y_test, yhat)\n",
    "\n",
    "    \n",
    "    std_acc[n-1]=np.std(yhat==y_test)/np.sqrt(yhat.shape[0])\n",
    "\n",
    "plt.plot(range(1,Ks),mean_acc,'g')\n",
    "plt.fill_between(range(1,Ks),mean_acc - 1 * std_acc,mean_acc + 1 * std_acc, alpha=0.10)\n",
    "plt.legend(('Accuracy ', '+/- 3xstd'))\n",
    "plt.ylabel('Accuracy ')\n",
    "plt.xlabel('Number of Nabors (K)')\n",
    "plt.tight_layout()\n",
    "plt.show()\n",
    "print( \"Best accuracy:\", mean_acc.max(), \"k=\", mean_acc.argmax()+1)"
   ]
  },
  {
   "cell_type": "markdown",
   "metadata": {},
   "source": [
    "## Decision Tree"
   ]
  },
  {
   "cell_type": "code",
   "execution_count": 162,
   "metadata": {},
   "outputs": [
    {
     "data": {
      "text/plain": [
       "DecisionTreeClassifier(criterion='entropy', max_depth=6)"
      ]
     },
     "execution_count": 162,
     "metadata": {},
     "output_type": "execute_result"
    }
   ],
   "source": [
    "from sklearn.tree import DecisionTreeClassifier\n",
    "from sklearn.model_selection import train_test_split\n",
    "X_trainset, X_testset, y_trainset, y_testset = train_test_split(X, y, test_size=0.3, random_state=3)\n",
    "\n",
    "Tree = DecisionTreeClassifier(criterion=\"entropy\", max_depth = 6)\n",
    "Tree.fit(X_trainset,y_trainset)"
   ]
  },
  {
   "cell_type": "code",
   "execution_count": 163,
   "metadata": {},
   "outputs": [
    {
     "name": "stdout",
     "output_type": "stream",
     "text": [
      "[1 1 1 1 1]\n",
      "[1 1 1 2 1]\n"
     ]
    }
   ],
   "source": [
    "predTree = Tree.predict(X_testset)\n",
    "print (predTree [0:5])\n",
    "print (y_testset [0:5])\n"
   ]
  },
  {
   "cell_type": "code",
   "execution_count": 166,
   "metadata": {},
   "outputs": [
    {
     "name": "stdout",
     "output_type": "stream",
     "text": [
      "Accuracy:  0.6993082428683949\n"
     ]
    }
   ],
   "source": [
    "from sklearn import metrics\n",
    "print(\"Accuracy: \", metrics.accuracy_score(y_testset, predTree))"
   ]
  },
  {
   "cell_type": "markdown",
   "metadata": {},
   "source": [
    "### Logistic Regression"
   ]
  },
  {
   "cell_type": "code",
   "execution_count": 167,
   "metadata": {},
   "outputs": [
    {
     "name": "stdout",
     "output_type": "stream",
     "text": [
      "Train set: (155738, 4) (155738,)\n",
      "Test set: (38935, 4) (38935,)\n"
     ]
    },
    {
     "data": {
      "text/plain": [
       "LogisticRegression(C=0.01, solver='liblinear')"
      ]
     },
     "execution_count": 167,
     "metadata": {},
     "output_type": "execute_result"
    }
   ],
   "source": [
    "from sklearn import preprocessing\n",
    "X = preprocessing.StandardScaler().fit(X).transform(X)\n",
    "X[0:5]\n",
    "\n",
    "from sklearn.model_selection import train_test_split\n",
    "X_train, X_test, y_train, y_test = train_test_split( X, y, test_size=0.2, random_state=4)\n",
    "print ('Train set:', X_train.shape,  y_train.shape)\n",
    "print ('Test set:', X_test.shape,  y_test.shape)\n",
    "\n",
    "from sklearn.linear_model import LogisticRegression\n",
    "from sklearn.metrics import confusion_matrix\n",
    "LogR = LogisticRegression(C=0.01, solver='liblinear').fit(X_train,y_train)\n",
    "LogR"
   ]
  },
  {
   "cell_type": "code",
   "execution_count": 169,
   "metadata": {},
   "outputs": [
    {
     "data": {
      "text/plain": [
       "array([[0.70107795, 0.29892205],\n",
       "       [0.54871199, 0.45128801],\n",
       "       [0.73218717, 0.26781283],\n",
       "       ...,\n",
       "       [0.7435953 , 0.2564047 ],\n",
       "       [0.75984055, 0.24015945],\n",
       "       [0.70107795, 0.29892205]])"
      ]
     },
     "execution_count": 169,
     "metadata": {},
     "output_type": "execute_result"
    }
   ],
   "source": [
    "yhat = LogR.predict(X_test)\n",
    "yhat\n",
    "yhat_prob = LogR.predict_proba(X_test)\n",
    "yhat_prob"
   ]
  },
  {
   "cell_type": "code",
   "execution_count": 171,
   "metadata": {},
   "outputs": [
    {
     "data": {
      "text/plain": [
       "0.5874048132576434"
      ]
     },
     "execution_count": 171,
     "metadata": {},
     "output_type": "execute_result"
    }
   ],
   "source": [
    "from sklearn.metrics import jaccard_score\n",
    "jaccard_score(y_test, yhat)\n",
    "from sklearn.metrics import log_loss\n",
    "log_loss(y_test, yhat_prob)"
   ]
  },
  {
   "cell_type": "markdown",
   "metadata": {},
   "source": [
    "### Results & Evaluation "
   ]
  },
  {
   "cell_type": "code",
   "execution_count": 172,
   "metadata": {},
   "outputs": [],
   "source": [
    "from sklearn.metrics import jaccard_score\n",
    "from sklearn.metrics import f1_score\n",
    "from sklearn.metrics import log_loss"
   ]
  },
  {
   "cell_type": "code",
   "execution_count": 174,
   "metadata": {},
   "outputs": [
    {
     "data": {
      "text/html": [
       "<div>\n",
       "<style scoped>\n",
       "    .dataframe tbody tr th:only-of-type {\n",
       "        vertical-align: middle;\n",
       "    }\n",
       "\n",
       "    .dataframe tbody tr th {\n",
       "        vertical-align: top;\n",
       "    }\n",
       "\n",
       "    .dataframe thead th {\n",
       "        text-align: right;\n",
       "    }\n",
       "</style>\n",
       "<table border=\"1\" class=\"dataframe\">\n",
       "  <thead>\n",
       "    <tr style=\"text-align: right;\">\n",
       "      <th></th>\n",
       "      <th>ROADCOND</th>\n",
       "      <th>ADDRTYPE</th>\n",
       "      <th>LIGHTCOND</th>\n",
       "      <th>WEATHER</th>\n",
       "    </tr>\n",
       "  </thead>\n",
       "  <tbody>\n",
       "    <tr>\n",
       "      <th>0</th>\n",
       "      <td>Wet</td>\n",
       "      <td>Intersection</td>\n",
       "      <td>Daylight</td>\n",
       "      <td>Overcast</td>\n",
       "    </tr>\n",
       "    <tr>\n",
       "      <th>1</th>\n",
       "      <td>Wet</td>\n",
       "      <td>Block</td>\n",
       "      <td>Dark - Street Lights On</td>\n",
       "      <td>Raining</td>\n",
       "    </tr>\n",
       "    <tr>\n",
       "      <th>2</th>\n",
       "      <td>Dry</td>\n",
       "      <td>Block</td>\n",
       "      <td>Daylight</td>\n",
       "      <td>Overcast</td>\n",
       "    </tr>\n",
       "    <tr>\n",
       "      <th>3</th>\n",
       "      <td>Dry</td>\n",
       "      <td>Block</td>\n",
       "      <td>Daylight</td>\n",
       "      <td>Clear</td>\n",
       "    </tr>\n",
       "    <tr>\n",
       "      <th>4</th>\n",
       "      <td>Wet</td>\n",
       "      <td>Intersection</td>\n",
       "      <td>Daylight</td>\n",
       "      <td>Raining</td>\n",
       "    </tr>\n",
       "  </tbody>\n",
       "</table>\n",
       "</div>"
      ],
      "text/plain": [
       "  ROADCOND      ADDRTYPE                LIGHTCOND   WEATHER\n",
       "0      Wet  Intersection                 Daylight  Overcast\n",
       "1      Wet         Block  Dark - Street Lights On   Raining\n",
       "2      Dry         Block                 Daylight  Overcast\n",
       "3      Dry         Block                 Daylight     Clear\n",
       "4      Wet  Intersection                 Daylight   Raining"
      ]
     },
     "execution_count": 174,
     "metadata": {},
     "output_type": "execute_result"
    }
   ],
   "source": [
    "testdata=df[{'ADDRTYPE','WEATHER','ROADCOND','LIGHTCOND'}]\n",
    "testdata.head()"
   ]
  },
  {
   "cell_type": "code",
   "execution_count": 176,
   "metadata": {},
   "outputs": [
    {
     "data": {
      "text/plain": [
       "array([2, 1, 1, 1, 2], dtype=int64)"
      ]
     },
     "execution_count": 176,
     "metadata": {},
     "output_type": "execute_result"
    }
   ],
   "source": [
    "X= preprocessing.StandardScaler().fit(X).transform(X)\n",
    "X[0:5]\n",
    "Y = df['SEVERITYCODE'].values\n",
    "Y[0:5]"
   ]
  },
  {
   "cell_type": "code",
   "execution_count": 179,
   "metadata": {},
   "outputs": [
    {
     "name": "stdout",
     "output_type": "stream",
     "text": [
      "Avg F1-score: 0.60\n",
      "KNN Jaccard Score: 0.64\n",
      "Avg F1-score: 0.58\n",
      "Decision Tree Jaccard Score: 0.70\n",
      "LogLoss: : 0.59\n",
      "Avg F1-score: 0.5805\n",
      "LOG Jaccard score: 0.6939\n"
     ]
    }
   ],
   "source": [
    "yhatKNN=neigh.predict(X)\n",
    "KNNJaccard = jaccard_score(y, yhatKNN)\n",
    "KNNF1 = f1_score(y, yhatKNN, average='weighted')\n",
    "print(\"Avg F1-score: %.2f\" % KNNF1 )\n",
    "print(\"KNN Jaccard Score: %.2f\" % KNNJaccard)\n",
    "\n",
    "\n",
    "yhatDEC = Tree.predict(X)\n",
    "DTJaccard = jaccard_score(y, yhatDEC)\n",
    "DTF1 = f1_score(y, yhatDEC, average='weighted')\n",
    "print(\"Avg F1-score: %.2f\" % DTF1 )\n",
    "print(\"Decision Tree Jaccard Score: %.2f\" % DTJaccard)\n",
    "\n",
    "yhatLOG = LogR.predict(X)\n",
    "yhatLOGproba = LogR.predict_proba(X)\n",
    "LogRJaccard = jaccard_score(y, yhatLOG)\n",
    "LogRF1 = f1_score(y, yhatLOG, average='weighted')\n",
    "Logloss = log_loss(y, yhatLOGproba)\n",
    "print(\"LogLoss: : %.2f\" % Logloss)\n",
    "print(\"Avg F1-score: %.4f\" % LogRF1)\n",
    "print(\"LOG Jaccard score: %.4f\" % LogRJaccard)"
   ]
  },
  {
   "cell_type": "markdown",
   "metadata": {},
   "source": [
    "#### KN Model is accurate at 6\n",
    "#### Decision Tree is accurate depth 7\n",
    "#### Logistic Regression is accurate at 6"
   ]
  },
  {
   "cell_type": "markdown",
   "metadata": {},
   "source": [
    "## Discussion"
   ]
  },
  {
   "cell_type": "markdown",
   "metadata": {},
   "source": [
    "In the beginning of this notebook, we had categorical data that was of type 'object'. This is not a data type that we could have fed through an algoritim, so label encoding was used to created new classes that were of type int8; a numerical data type.\n",
    "\n",
    "After solving that issue we were presented with another - imbalanced data. As mentioned earlier, class 1 was nearly three times larger than class 2. The solution to this was downsampling the majority class with sklearn's resample tool. We downsampled to match the minority class exactly with 58188 values each.\n",
    "\n",
    "Once we analyzed and cleaned the data, it was then fed through three ML models; K-Nearest Neighbor, Decision Tree and Logistic Regression. Although the first two are ideal for this project, logistic regression made most sense because of its binary nature.\n",
    "\n",
    "Evaluation metrics used to test the accuracy of our models were jaccard index, f-1 score and logloss for logistic regression. Choosing different k, max depth and hyparameter C values helped to improve our accuracy to be the best possible."
   ]
  },
  {
   "cell_type": "markdown",
   "metadata": {},
   "source": [
    "### Conclusion"
   ]
  },
  {
   "cell_type": "markdown",
   "metadata": {},
   "source": [
    "Based on historical data from weather conditions pointing to certain classes, we can conclude that particular weather conditions have a somewhat impact on whether or not travel could result in property damage (class 1) or injury (class 2)."
   ]
  },
  {
   "cell_type": "code",
   "execution_count": null,
   "metadata": {},
   "outputs": [],
   "source": []
  }
 ],
 "metadata": {
  "kernelspec": {
   "display_name": "Python 3",
   "language": "python",
   "name": "python3"
  },
  "language_info": {
   "codemirror_mode": {
    "name": "ipython",
    "version": 3
   },
   "file_extension": ".py",
   "mimetype": "text/x-python",
   "name": "python",
   "nbconvert_exporter": "python",
   "pygments_lexer": "ipython3",
   "version": "3.8.3"
  }
 },
 "nbformat": 4,
 "nbformat_minor": 4
}
